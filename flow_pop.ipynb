{
 "cells": [
  {
   "cell_type": "code",
   "execution_count": 46,
   "metadata": {},
   "outputs": [],
   "source": [
    "import pandas as pd\n",
    "import calendar\n",
    "\n",
    "import glob\n",
    "import os\n",
    "import numpy as np"
   ]
  },
  {
   "cell_type": "code",
   "execution_count": 4,
   "metadata": {},
   "outputs": [],
   "source": [
    "sangdo_number = 1120053"
   ]
  },
  {
   "cell_type": "markdown",
   "metadata": {},
   "source": [
    "출력 결과물 형태 : 월, 요일, 유동인구 총합(일별)"
   ]
  },
  {
   "cell_type": "markdown",
   "metadata": {},
   "source": [
    "이걸 만들어주는 함수를 만들어야 할듯 그 단계\n",
    "\n",
    "1. 유동인구 값을 함유하는 모든 파일을 열 수 있게 그 이름들을 모두 리스트에 저장한다. (폴더 이름들도 저장한다.)\n",
    "2. 폴더를 불러오면서, 해당 월의 값을 csv파일로 만든다. \n",
    "3. 각 요일 마다, 값을 합친다."
   ]
  },
  {
   "cell_type": "code",
   "execution_count": null,
   "metadata": {},
   "outputs": [],
   "source": []
  },
  {
   "cell_type": "code",
   "execution_count": 127,
   "metadata": {},
   "outputs": [],
   "source": [
    "\n",
    "def monthly_flow(folder_path):\n",
    "    # 파일이 있는 폴더 경로 설정\n",
    "\n",
    "\n",
    "    # 폴더 안에 있는 모든 CSV 파일 경로 가져오기\n",
    "    files = os.listdir(folder_path)\n",
    "\n",
    "    # CSV 파일들을 담을 빈 리스트 생성\n",
    "    dfs = []\n",
    "\n",
    "    # 각 CSV 파일을 읽어서 데이터프레임으로 추가\n",
    "    for file in files:\n",
    "        if file.endswith('.csv'):\n",
    "            file_path = os.path.join(folder_path, file)\n",
    "            df = pd.read_csv(file_path,encoding='cp949')\n",
    "            dfs.append(df)\n",
    "    #print(dfs)\n",
    "    # 모든 CSV 파일을 하나의 데이터프레임으로 병합\n",
    "    combined_df = pd.concat(dfs, ignore_index=True)\n",
    "    combined_df['이동인구(합)'] = combined_df['이동인구(합)'].replace('*', 2)\n",
    "\n",
    "\n",
    "\n",
    "    combined_df = combined_df[(combined_df['도착 행정동 코드'] == sangdo_number) | (df['출발 행정동 코드'] == sangdo_number)]\n",
    "    \n",
    "    data_type = combined_df['이동인구(합)'].dtype\n",
    "        # float 값을 int로 변환\n",
    "    if np.issubdtype(data_type, np.floating):\n",
    "        combined_df['이동인구(합)'] = combined_df['이동인구(합)'].astype(int)\n",
    "\n",
    "    # str 값을 int로 변환\n",
    "    if np.issubdtype(data_type, object):\n",
    "        combined_df['이동인구(합)'] = pd.to_numeric(combined_df['이동인구(합)'], errors='coerce').astype(int)\n",
    "    \n",
    "    arrival_sums = combined_df.loc[combined_df['도착 행정동 코드'] == sangdo_number].groupby('요일')['이동인구(합)'].sum()\n",
    "\n",
    "    # 요일 별로 '출발행정동'이 1120053인 경우 합계 값 계산\n",
    "    departure_sums = combined_df.loc[combined_df['출발 행정동 코드'] == sangdo_number].groupby('요일')['이동인구(합)'].sum()\n",
    "    \n",
    "    # 대상연월 가져오기\n",
    "    target_month = combined_df['대상연월'].unique()\n",
    "    target_month = str(target_month[0])\n",
    "    # 요일 가져오기\n",
    "    days_of_week = combined_df['요일'].unique()\n",
    "\n",
    "    results = arrival_sums.sub(departure_sums, fill_value=0)\n",
    "        \n",
    "    # 인덱스 초기화 \n",
    "    results = results.reset_index()\n",
    "    \n",
    "    results['대상연월'] = target_month\n",
    "    \n",
    "    results['주중요일수'] = results['요일'].apply(lambda x: count_weekday(results['대상연월'].iloc[0], x))\n",
    "    \n",
    "    results['평균 이동인구'] = results['이동인구(합)']//results['주중요일수']\n",
    "    \n",
    "    return results\n",
    "\n"
   ]
  },
  {
   "cell_type": "code",
   "execution_count": 128,
   "metadata": {},
   "outputs": [
    {
     "name": "stdout",
     "output_type": "stream",
     "text": [
      "  요일  이동인구(합)    대상연월  주중요일수  평균 이동인구\n",
      "0  금   258586  202204      5    51717\n",
      "1  목   209803  202204      4    52450\n",
      "2  수   206154  202204      4    51538\n",
      "3  월   207481  202204      4    51870\n",
      "4  일   158409  202204      4    39602\n",
      "5  토   225248  202204      5    45049\n",
      "6  화   209972  202204      4    52493\n"
     ]
    }
   ],
   "source": [
    "april = monthly_flow('/Users/hanyoungwook/2023-1/capstone_design/needed_data/LM2022/LM_202204')\n",
    "print(april)"
   ]
  },
  {
   "cell_type": "code",
   "execution_count": 129,
   "metadata": {},
   "outputs": [
    {
     "name": "stdout",
     "output_type": "stream",
     "text": [
      "  요일  이동인구(합)    대상연월  주중요일수  평균 이동인구\n",
      "0  금   178525  202201      4    44631\n",
      "1  목   174911  202201      4    43727\n",
      "2  수   171932  202201      4    42983\n",
      "3  월   199291  202201      5    39858\n",
      "4  일   170838  202201      5    34167\n",
      "5  토   182166  202201      5    36433\n",
      "6  화   173237  202201      4    43309\n"
     ]
    }
   ],
   "source": [
    "jan = monthly_flow('/Users/hanyoungwook/2023-1/capstone_design/needed_data/LM2022/LM_202201')\n",
    "print(jan)"
   ]
  },
  {
   "cell_type": "code",
   "execution_count": 111,
   "metadata": {},
   "outputs": [
    {
     "ename": "KeyboardInterrupt",
     "evalue": "",
     "output_type": "error",
     "traceback": [
      "\u001b[0;31m---------------------------------------------------------------------------\u001b[0m",
      "\u001b[0;31mKeyboardInterrupt\u001b[0m                         Traceback (most recent call last)",
      "Cell \u001b[0;32mIn[111], line 7\u001b[0m\n\u001b[1;32m      4\u001b[0m files \u001b[38;5;241m=\u001b[39m os\u001b[38;5;241m.\u001b[39mlistdir(folder_path)\n\u001b[1;32m      6\u001b[0m \u001b[38;5;66;03m# CSV 파일들을 담을 빈 리스트 생성\u001b[39;00m\n\u001b[0;32m----> 7\u001b[0m dfs \u001b[38;5;241m=\u001b[39m []\n\u001b[1;32m      9\u001b[0m \u001b[38;5;66;03m# 각 CSV 파일을 읽어서 데이터프레임으로 추가\u001b[39;00m\n\u001b[1;32m     10\u001b[0m \u001b[38;5;28;01mfor\u001b[39;00m file \u001b[38;5;129;01min\u001b[39;00m files:\n",
      "\u001b[0;31mKeyboardInterrupt\u001b[0m: "
     ]
    }
   ],
   "source": [
    "folder_path = '/Users/hanyoungwook/2023-1/capstone_design/needed_data/LM2022/LM_202204'\n",
    "\n",
    "# 폴더 안에 있는 모든 CSV 파일 경로 가져오기\n",
    "files = os.listdir(folder_path)\n",
    "\n",
    "# CSV 파일들을 담을 빈 리스트 생성\n",
    "dfs = []\n",
    "\n",
    "# 각 CSV 파일을 읽어서 데이터프레임으로 추가\n",
    "for file in files:\n",
    "    if file.endswith('.csv'):\n",
    "        file_path = os.path.join(folder_path, file)\n",
    "        df = pd.read_csv(file_path,encoding='cp949')\n",
    "        dfs.append(df)\n",
    "#print(dfs)\n",
    "# 모든 CSV 파일을 하나의 데이터프레임으로 병합\n",
    "combined_df = pd.concat(dfs, ignore_index=True)\n",
    "combined_df['이동인구(합)'] = combined_df['이동인구(합)'].replace('*', 2)\n",
    "\n",
    "\n",
    "\n",
    "combined_df = combined_df[(combined_df['도착 행정동 코드'] == sangdo_number) | (df['출발 행정동 코드'] == sangdo_number)]\n",
    "\n",
    "data_type = combined_df['이동인구(합)'].dtype\n",
    "    # float 값을 int로 변환\n",
    "if np.issubdtype(data_type, np.floating):\n",
    "    combined_df['이동인구(합)'] = combined_df['이동인구(합)'].astype(int)\n",
    "\n",
    "# str 값을 int로 변환\n",
    "if np.issubdtype(data_type, object):\n",
    "    combined_df['이동인구(합)'] = pd.to_numeric(combined_df['이동인구(합)'], errors='coerce').astype(int)\n",
    "\n",
    "arrival_sums = combined_df.loc[combined_df['도착 행정동 코드'] == sangdo_number].groupby('요일')['이동인구(합)'].sum()\n",
    "\n",
    "# 요일 별로 '출발행정동'이 1120053인 경우 합계 값 계산\n",
    "departure_sums = combined_df.loc[combined_df['출발 행정동 코드'] == sangdo_number].groupby('요일')['이동인구(합)'].sum()\n",
    "\n",
    "# 요일 별로 결과 값 계산\n",
    "results = arrival_sums - departure_sums\n",
    "\n",
    "# 대상연월 가져오기\n",
    "target_month = combined_df['대상연월'].unique()\n",
    "\n",
    "# 요일 가져오기\n",
    "days_of_week = combined_df['요일'].unique()\n",
    "# 데이터프레임 생성\n",
    "#result_df = pd.DataFrame({'대상연월': target_month, '요일': days_of_week, '결과값': results}).reset_index(drop=True)\n",
    "\n"
   ]
  },
  {
   "cell_type": "code",
   "execution_count": 114,
   "metadata": {},
   "outputs": [
    {
     "data": {
      "text/plain": [
       "'202204'"
      ]
     },
     "execution_count": 114,
     "metadata": {},
     "output_type": "execute_result"
    }
   ],
   "source": [
    "target_month"
   ]
  },
  {
   "cell_type": "code",
   "execution_count": 113,
   "metadata": {},
   "outputs": [],
   "source": [
    "target_month = str(target_month[0])"
   ]
  },
  {
   "cell_type": "code",
   "execution_count": 107,
   "metadata": {},
   "outputs": [
    {
     "name": "stdout",
     "output_type": "stream",
     "text": [
      "요일\n",
      "금    71517\n",
      "목    57958\n",
      "수    58779\n",
      "월    61664\n",
      "일    38442\n",
      "토    53654\n",
      "화    60802\n",
      "Name: 이동인구(합), dtype: int64\n",
      "요일\n",
      "금    330103\n",
      "목    267761\n",
      "수    264933\n",
      "월    269145\n",
      "일    196851\n",
      "토    278902\n",
      "화    270774\n",
      "Name: 이동인구(합), dtype: int64\n"
     ]
    },
    {
     "data": {
      "text/plain": [
       "요일\n",
       "금    258586\n",
       "목    209803\n",
       "수    206154\n",
       "월    207481\n",
       "일    158409\n",
       "토    225248\n",
       "화    209972\n",
       "Name: 이동인구(합), dtype: int64"
      ]
     },
     "execution_count": 107,
     "metadata": {},
     "output_type": "execute_result"
    }
   ],
   "source": [
    "print(departure_sums)\n",
    "print(arrival_sums)\n",
    "results = arrival_sums.sub(departure_sums, fill_value=0)\n",
    "results\n",
    "\n"
   ]
  },
  {
   "cell_type": "code",
   "execution_count": 104,
   "metadata": {},
   "outputs": [
    {
     "data": {
      "text/plain": [
       "요일\n",
       "금    258586\n",
       "목    209803\n",
       "수    206154\n",
       "월    207481\n",
       "일    158409\n",
       "토    225248\n",
       "화    209972\n",
       "Name: 이동인구(합), dtype: int64"
      ]
     },
     "execution_count": 104,
     "metadata": {},
     "output_type": "execute_result"
    }
   ],
   "source": [
    "results"
   ]
  },
  {
   "cell_type": "code",
   "execution_count": 120,
   "metadata": {},
   "outputs": [],
   "source": [
    "results['대상연월'] = '202204'"
   ]
  },
  {
   "cell_type": "code",
   "execution_count": 126,
   "metadata": {},
   "outputs": [
    {
     "data": {
      "text/html": [
       "<div>\n",
       "<style scoped>\n",
       "    .dataframe tbody tr th:only-of-type {\n",
       "        vertical-align: middle;\n",
       "    }\n",
       "\n",
       "    .dataframe tbody tr th {\n",
       "        vertical-align: top;\n",
       "    }\n",
       "\n",
       "    .dataframe thead th {\n",
       "        text-align: right;\n",
       "    }\n",
       "</style>\n",
       "<table border=\"1\" class=\"dataframe\">\n",
       "  <thead>\n",
       "    <tr style=\"text-align: right;\">\n",
       "      <th></th>\n",
       "      <th>요일</th>\n",
       "      <th>이동인구(합)</th>\n",
       "      <th>대상연월</th>\n",
       "      <th>주중요일수</th>\n",
       "      <th>평균 이동인구</th>\n",
       "    </tr>\n",
       "  </thead>\n",
       "  <tbody>\n",
       "    <tr>\n",
       "      <th>0</th>\n",
       "      <td>금</td>\n",
       "      <td>258586</td>\n",
       "      <td>202204</td>\n",
       "      <td>5</td>\n",
       "      <td>51717</td>\n",
       "    </tr>\n",
       "    <tr>\n",
       "      <th>1</th>\n",
       "      <td>목</td>\n",
       "      <td>209803</td>\n",
       "      <td>202204</td>\n",
       "      <td>4</td>\n",
       "      <td>52450</td>\n",
       "    </tr>\n",
       "    <tr>\n",
       "      <th>2</th>\n",
       "      <td>수</td>\n",
       "      <td>206154</td>\n",
       "      <td>202204</td>\n",
       "      <td>4</td>\n",
       "      <td>51538</td>\n",
       "    </tr>\n",
       "    <tr>\n",
       "      <th>3</th>\n",
       "      <td>월</td>\n",
       "      <td>207481</td>\n",
       "      <td>202204</td>\n",
       "      <td>4</td>\n",
       "      <td>51870</td>\n",
       "    </tr>\n",
       "    <tr>\n",
       "      <th>4</th>\n",
       "      <td>일</td>\n",
       "      <td>158409</td>\n",
       "      <td>202204</td>\n",
       "      <td>4</td>\n",
       "      <td>39602</td>\n",
       "    </tr>\n",
       "    <tr>\n",
       "      <th>5</th>\n",
       "      <td>토</td>\n",
       "      <td>225248</td>\n",
       "      <td>202204</td>\n",
       "      <td>5</td>\n",
       "      <td>45049</td>\n",
       "    </tr>\n",
       "    <tr>\n",
       "      <th>6</th>\n",
       "      <td>화</td>\n",
       "      <td>209972</td>\n",
       "      <td>202204</td>\n",
       "      <td>4</td>\n",
       "      <td>52493</td>\n",
       "    </tr>\n",
       "  </tbody>\n",
       "</table>\n",
       "</div>"
      ],
      "text/plain": [
       "  요일  이동인구(합)    대상연월  주중요일수  평균 이동인구\n",
       "0  금   258586  202204      5    51717\n",
       "1  목   209803  202204      4    52450\n",
       "2  수   206154  202204      4    51538\n",
       "3  월   207481  202204      4    51870\n",
       "4  일   158409  202204      4    39602\n",
       "5  토   225248  202204      5    45049\n",
       "6  화   209972  202204      4    52493"
      ]
     },
     "execution_count": 126,
     "metadata": {},
     "output_type": "execute_result"
    }
   ],
   "source": [
    "results"
   ]
  },
  {
   "cell_type": "code",
   "execution_count": 118,
   "metadata": {},
   "outputs": [],
   "source": [
    "results = results.reset_index()\n"
   ]
  },
  {
   "cell_type": "code",
   "execution_count": 122,
   "metadata": {},
   "outputs": [],
   "source": [
    "results['주중요일수'] = results['요일'].apply(lambda x: count_weekday(results['대상연월'].iloc[0], x))\n"
   ]
  },
  {
   "cell_type": "code",
   "execution_count": 125,
   "metadata": {},
   "outputs": [],
   "source": [
    "results['평균 이동인구'] = results['이동인구(합)']//results['주중요일수']"
   ]
  },
  {
   "cell_type": "code",
   "execution_count": 80,
   "metadata": {},
   "outputs": [],
   "source": [
    "\n",
    "def count_weekday(target_month, target_weekday):\n",
    "    year = int(target_month[:4])\n",
    "    month = int(target_month[4:])\n",
    "    \n",
    "    _, last_day = calendar.monthrange(year, month)\n",
    "    \n",
    "    # 대상 월의 모든 날짜 생성\n",
    "    dates = pd.date_range(start=f\"{year}-{month:02d}-01\", end=f\"{year}-{month:02d}-{last_day}\")\n",
    "    \n",
    "    # 한글 요일과 대응되는 영어 요일 매핑\n",
    "    weekday_mapping = {\n",
    "        '월': 'Monday',\n",
    "        '화': 'Tuesday',\n",
    "        '수': 'Wednesday',\n",
    "        '목': 'Thursday',\n",
    "        '금': 'Friday',\n",
    "        '토': 'Saturday',\n",
    "        '일': 'Sunday'\n",
    "    }\n",
    "    \n",
    "    # 대상 요일에 해당하는 영어 요일 가져오기\n",
    "    target_weekday_en = weekday_mapping.get(target_weekday)\n",
    "    \n",
    "    if target_weekday_en is None:\n",
    "        raise ValueError(\"올바른 한글 요일을 입력하세요.\")\n",
    "    \n",
    "    # 대상 요일과 일치하는 횟수 계산\n",
    "    weekday_count = sum(1 for date in dates if date.strftime('%A') == target_weekday_en)\n",
    "    \n",
    "    return weekday_count\n",
    "\n"
   ]
  },
  {
   "cell_type": "markdown",
   "metadata": {},
   "source": [
    "여기에 모든 파일을 열어서 합치는 과정을 거쳐야 한다."
   ]
  },
  {
   "cell_type": "code",
   "execution_count": 132,
   "metadata": {},
   "outputs": [],
   "source": [
    "\n",
    "def apply_monthly_flow_to_folders(folder_path):\n",
    "    # 폴더 내에 있는 폴더 목록 가져오기\n",
    "    folder_list = [folder_name for folder_name in os.listdir(folder_path) if not folder_name.startswith('.')]\n",
    "    \n",
    "    # 결과를 저장할 빈 리스트 초기화\n",
    "    dfs = []\n",
    "    \n",
    "    # 각 폴더에 대해 monthly_flow 함수 적용\n",
    "    for folder_name in folder_list:\n",
    "        # 폴더 경로 생성\n",
    "        subfolder_path = os.path.join(folder_path, folder_name)\n",
    "        \n",
    "        # monthly_flow 함수 적용\n",
    "        result = monthly_flow(subfolder_path)\n",
    "        \n",
    "        # 결과를 데이터프레임으로 변환하여 리스트에 추가\n",
    "        df = pd.DataFrame(result)\n",
    "        dfs.append(df)\n",
    "    \n",
    "    # 결과 데이터프레임 생성\n",
    "    results = pd.concat(dfs, ignore_index=True)\n",
    "    \n",
    "    return results\n",
    "\n"
   ]
  },
  {
   "cell_type": "code",
   "execution_count": 133,
   "metadata": {},
   "outputs": [
    {
     "name": "stdout",
     "output_type": "stream",
     "text": [
      "    요일  이동인구(합)    대상연월  주중요일수  평균 이동인구\n",
      "0    금   178525  202201      4    44631\n",
      "1    목   174911  202201      4    43727\n",
      "2    수   171932  202201      4    42983\n",
      "3    월   199291  202201      5    39858\n",
      "4    일   170838  202201      5    34167\n",
      "..  ..      ...     ...    ...      ...\n",
      "100  수   291139  202211      5    58227\n",
      "101  월   228616  202211      4    57154\n",
      "102  일   172072  202211      4    43018\n",
      "103  토   195147  202211      4    48786\n",
      "104  화   292851  202211      5    58570\n",
      "\n",
      "[105 rows x 5 columns]\n"
     ]
    }
   ],
   "source": [
    "folder_path = '/Users/hanyoungwook/2023-1/capstone_design/needed_data/LM2022'\n",
    "results = apply_monthly_flow_to_folders(folder_path)\n",
    "print(results)"
   ]
  },
  {
   "cell_type": "code",
   "execution_count": 134,
   "metadata": {},
   "outputs": [],
   "source": [
    "results.to_csv('LM_sangdo', index=False)"
   ]
  }
 ],
 "metadata": {
  "interpreter": {
   "hash": "d7237df4f877a49a1b93f15abfdc07af5d60baa1ca52e3aa462f24e9c019c439"
  },
  "kernelspec": {
   "display_name": "Python 3.9.16 ('capstone')",
   "language": "python",
   "name": "python3"
  },
  "language_info": {
   "codemirror_mode": {
    "name": "ipython",
    "version": 3
   },
   "file_extension": ".py",
   "mimetype": "text/x-python",
   "name": "python",
   "nbconvert_exporter": "python",
   "pygments_lexer": "ipython3",
   "version": "3.9.16"
  },
  "orig_nbformat": 4
 },
 "nbformat": 4,
 "nbformat_minor": 2
}

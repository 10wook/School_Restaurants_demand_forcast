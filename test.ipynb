{
 "cells": [
  {
   "cell_type": "markdown",
   "metadata": {},
   "source": [
    "# 교내식당 수요예측 프로젝트 "
   ]
  },
  {
   "cell_type": "markdown",
   "metadata": {},
   "source": [
    "## 1. 초기 작업"
   ]
  },
  {
   "cell_type": "markdown",
   "metadata": {},
   "source": [
    "### 1.1 필요한 패키지 불러오기"
   ]
  },
  {
   "cell_type": "code",
   "execution_count": null,
   "metadata": {},
   "outputs": [],
   "source": [
    "import pandas as pd\n",
    "import sklearn as skl\n",
    "import matplotlib as plt\n",
    "import numpy as np\n",
    "from openpyxl import load_workbook \n",
    "import copy\n",
    "pd.set_option('display.max_columns', None)\n",
    "pd.set_option('display.max_row', None)"
   ]
  },
  {
   "cell_type": "markdown",
   "metadata": {},
   "source": [
    "### 1.2 필요한 정보들 목록"
   ]
  },
  {
   "cell_type": "markdown",
   "metadata": {},
   "source": [
    "1. 식수 정보 (2022)\n",
    "2. 식수 정보 (2023)\n",
    "3. 메뉴 정보 (2022)\n",
    "4. 메뉴 정보 (2023)\n",
    "5. 버스 승하차 기록\n",
    "6. 지하철 승하차 기록\n",
    "7. 날씨 기록\n",
    "8. 교내 이벤트"
   ]
  },
  {
   "cell_type": "markdown",
   "metadata": {},
   "source": [
    "### 1.3 각각의 값 불러오기"
   ]
  },
  {
   "cell_type": "markdown",
   "metadata": {},
   "source": [
    "#### 1.3.1 2022년 1월 값 추출하기"
   ]
  },
  {
   "cell_type": "code",
   "execution_count": null,
   "metadata": {},
   "outputs": [],
   "source": [
    "# 마 이제 함 불러와 봐라!\n",
    "\n",
    "filename = '/Users/hanyoungwook/2023-1/capstone_design/필요한 데이터들/식수현황/식수인원현황 2022.xlsx'\n",
    "\n",
    "## 파일 불러옴 \n",
    "demend_info_2022 = load_workbook(filename,data_only = True)\n",
    "\n",
    "#원하는 시트 불러옴\n",
    "demend_info_2022_01 = demend_info_2022['2022.01']\n",
    "\n",
    "#판다스 프레임으로 변환\n",
    "demend_info_2022_01 = pd.DataFrame(demend_info_2022_01.values)\n",
    "\n",
    "#날짜 추출\n",
    "date = demend_info_2022_01.loc[4:68, 0]\n",
    "date = date.iloc[::2]\n",
    "\n",
    "#원하는 값(필요한 값 추출)\n",
    "demend_info_2022_01 = demend_info_2022_01.loc[4:68, 12:19]\n",
    "# 짝수줄\n",
    "temp = demend_info_2022_01.iloc[::2, :]\n",
    "#홀수줄\n",
    "temp2 = demend_info_2022_01.iloc[1::2]\n",
    "\n",
    "#날짜 더 해줌\n",
    "temp = pd.concat([date, temp], axis=1)\n",
    "\n",
    "##1월만의 전처리\n",
    "temp.drop(temp.tail(1).index, inplace=True)\n",
    "temp = temp.reset_index()\n",
    "\n",
    "#temp = pd.merge(temp,temp2, )\n",
    "temp2 = pd.DataFrame(temp2[[13,16,18,19]])\n",
    "temp2 = temp2.reset_index()\n",
    "\n",
    "#원하는 모양으로 합치기\n",
    "temp = pd.concat([temp,temp2], axis=1)\n",
    "\n",
    "\n",
    "#필요없는 값 빼버리기\n",
    "temp = temp.drop(['index',14],axis=1)\n",
    "\n",
    "# 여기서 앞에 있는 18,19를 빼야 한다.\n",
    "# 어케 빼지~~ 일단 라벨링을 하면 좋을듯\n",
    "temp.columns = ['날짜','조식','중식1','중식2','석식','예약','공란','공란','중식수','석식수','합계','매출']\n",
    "temp.drop(temp.tail(1).index, inplace=True)\n",
    "temp = temp.drop(['공란'],axis=1)\n",
    "demend_info_2022_01 = copy.deepcopy(temp)\n",
    "# 이걸 이대로 불러오면 원하는 모양이 안 나온다.  \n",
    "# 데이터 자르기 열 기준으로 12 ~ 19 가져오면 될듯 이게 도담 식당 데이터니까.\n",
    "# 12는 조식가격 13은 중식 1 가격 /14는 중식2가격 /15는 석식가격 /16은 \n",
    "# 뭐가 필요할까아아ㅏ 일단 그렇게 해보자. 또 자를 정보가 있나? 행 기준 4 ~ 68 일듯 근데 값을 그냥 치환 시켜 버려야 할듯\n",
    "# 근데 찾아보니.. 월 마다 정리 방식이 꽤나 다르네요 깔깔\n",
    "# 월마다 데이터를 알아서 조립해야한다니 정말 서운하네요.\n",
    "# 자 이제 잘라보자 \n",
    "# 자르기 성공 \n",
    "# 근데 그리고 이제 값을 수정해서 따로 넣어야 하는데 어떻게 하면 좋을까. \n",
    "# 원하는 대로 슬라이싱을 해볼까.\n",
    "# 날짜, 조식가격,중식1가격, 중식2가격, 석식가격\n"
   ]
  },
  {
   "cell_type": "markdown",
   "metadata": {},
   "source": [
    "#### 일단 2022년 1월"
   ]
  },
  {
   "cell_type": "code",
   "execution_count": null,
   "metadata": {},
   "outputs": [],
   "source": [
    "demend_info_2022_01"
   ]
  },
  {
   "cell_type": "markdown",
   "metadata": {},
   "source": [
    "#### 1.3.2 2022년 2월 값 추출하기"
   ]
  },
  {
   "cell_type": "code",
   "execution_count": null,
   "metadata": {},
   "outputs": [],
   "source": [
    "# 2월 시트 불러오기\n",
    "demend_info_2022_02 = demend_info_2022['2022.02']\n",
    "\n",
    "# 판다스 프레임으로 변환\n",
    "demend_info_2022_02 = pd.DataFrame(demend_info_2022_02.values)\n",
    "\n",
    "\n",
    "# 날짜 추출하기\n",
    "date = demend_info_2022_02.loc[4:59, 0]\n",
    "date = pd.DataFrame(date)\n",
    "date = date.iloc[::2]\n",
    "\n",
    "# 원하는 값 추출하기\n",
    "\n",
    "#원하는 값(필요한 값 추출)\n",
    "demend_info_2022_02 = demend_info_2022_02.loc[4:59, 12:19]\n",
    "# 짝수줄\n",
    "temp = demend_info_2022_02.iloc[::2, :]\n",
    "\n",
    "# 날짜 더해 줌\n",
    "\n",
    "temp = pd.concat([date, temp], axis=1)\n",
    "#홀수줄\n",
    "temp2 = demend_info_2022_02.iloc[1::2]\n",
    "\n",
    "## 각각에 대해서 인덱스를 새로 추가해주고, 합치고 , 필요 없는것 들 잘라준다\n",
    "\n",
    "temp = temp.reset_index()\n",
    "temp2 = temp2.reset_index()\n",
    "\n",
    "temp = pd.concat([temp,temp2], axis=1)\n",
    "temp = temp.drop(['index',14],axis=1)\n",
    "temp.columns = ['날짜','조식','중식1','중식2','석식','예약','공란','공란','공란','중식수','공란','석식수','공란','합계','매출']\n",
    "temp.loc[3, '석식수'] = temp.loc[3, '석식수'] +6 #예약(공란)에 들어있던 값을 석식을 추가해줌\n",
    "temp = temp.drop(['공란'],axis=1)\n",
    "\n",
    "demend_info_2022_02 = copy.deepcopy(temp)"
   ]
  },
  {
   "cell_type": "markdown",
   "metadata": {},
   "source": [
    "#### 2022년 2월의 값"
   ]
  },
  {
   "cell_type": "code",
   "execution_count": null,
   "metadata": {},
   "outputs": [],
   "source": [
    "demend_info_2022_02"
   ]
  },
  {
   "cell_type": "markdown",
   "metadata": {},
   "source": [
    "#### 1.3.3 2022년 3월 값 추출하기"
   ]
  },
  {
   "cell_type": "code",
   "execution_count": null,
   "metadata": {},
   "outputs": [],
   "source": [
    "#원하는 시트 불러옴\n",
    "demend_info_2022_03 = demend_info_2022['2022.03']\n",
    "\n",
    "#판다스 프레임으로 변환\n",
    "demend_info_2022_03 = pd.DataFrame(demend_info_2022_03.values)\n",
    "\n",
    "#날짜 추출\n",
    "date = demend_info_2022_03.loc[4:68, 0]\n",
    "date = date.iloc[::2]\n",
    "\n",
    "#원하는 값(필요한 값 추출)\n",
    "demend_info_2022_03 = demend_info_2022_03.loc[4:68, 12:19]\n",
    "# 짝수줄\n",
    "temp = demend_info_2022_03.iloc[::2, :]\n",
    "#홀수줄\n",
    "temp2 = demend_info_2022_03.iloc[1::2]\n",
    "\n",
    "#날짜 더 해줌\n",
    "temp = pd.concat([date, temp], axis=1)\n",
    "\n",
    "##1월만의 전처리\n",
    "temp.drop(temp.tail(1).index, inplace=True)\n",
    "temp = temp.reset_index()\n",
    "\n",
    "#temp = pd.merge(temp,temp2, )\n",
    "temp2 = pd.DataFrame(temp2[[13,16,18,19]])\n",
    "temp2 = temp2.reset_index()\n",
    "\n",
    "#원하는 모양으로 합치기\n",
    "temp = pd.concat([temp,temp2], axis=1)\n",
    "\n",
    "\n",
    "#필요없는 값 빼버리기\n",
    "temp = temp.drop(['index',14],axis=1)\n",
    "\n",
    "# 여기서 앞에 있는 18,19를 빼야 한다.\n",
    "# 어케 빼지~~ 일단 라벨링을 하면 좋을듯\n",
    "temp.columns = ['날짜','조식','중식1','중식2','석식','예약','공란','공란','중식수','석식수','합계','매출']\n",
    "temp.drop(temp.tail(1).index, inplace=True)\n",
    "temp = temp.drop(['공란'],axis=1)\n",
    "demend_info_2022_03 = copy.deepcopy(temp)\n"
   ]
  },
  {
   "cell_type": "markdown",
   "metadata": {},
   "source": [
    "#### 2022년 3월의 값"
   ]
  },
  {
   "cell_type": "code",
   "execution_count": null,
   "metadata": {},
   "outputs": [],
   "source": [
    "demend_info_2022_03"
   ]
  },
  {
   "cell_type": "markdown",
   "metadata": {},
   "source": [
    "#### 1.3.4 4월 결과"
   ]
  },
  {
   "cell_type": "code",
   "execution_count": null,
   "metadata": {},
   "outputs": [],
   "source": [
    "#원하는 시트 불러옴\n",
    "demend_info_2022_04 = demend_info_2022['2022.04']\n",
    "\n",
    "#판다스 프레임으로 변환\n",
    "demend_info_2022_04 = pd.DataFrame(demend_info_2022_04.values)\n",
    "\n",
    "#날짜 추출\n",
    "date = demend_info_2022_04.loc[4:68, 0]\n",
    "date = date.iloc[::2]\n",
    "\n",
    "#원하는 값(필요한 값 추출)\n",
    "demend_info_2022_04 = demend_info_2022_04.loc[4:64, 12:19]\n",
    "# 짝수줄\n",
    "temp = demend_info_2022_04.iloc[::2, :]\n",
    "#홀수줄\n",
    "temp2 = demend_info_2022_04.iloc[1::2]\n",
    "\n",
    "#날짜 더 해줌\n",
    "temp = pd.concat([date, temp], axis=1)\n",
    "\n",
    "##1월만의 전처리\n",
    "temp.drop(temp.tail(1).index, inplace=True)\n",
    "temp = temp.reset_index()\n",
    "\n",
    "#temp = pd.merge(temp,temp2, )\n",
    "temp2 = pd.DataFrame(temp2[[13,16,18,19]])\n",
    "temp2 = temp2.reset_index()\n",
    "\n",
    "#원하는 모양으로 합치기\n",
    "temp = pd.concat([temp,temp2], axis=1)\n",
    "\n",
    "\n",
    "#필요없는 값 빼버리기\n",
    "temp = temp.drop(['index',14],axis=1)\n",
    "\n",
    "# 여기서 앞에 있는 18,19를 빼야 한다.\n",
    "# 어케 빼지~~ 일단 라벨링을 하면 좋을듯\n",
    "temp.columns = ['날짜','조식','중식1','중식2','석식','예약','공란','공란','중식수','석식수','합계','매출']\n",
    "temp.drop(temp.tail(1).index, inplace=True)\n",
    "temp = temp.drop(['공란'],axis=1)\n",
    "temp.drop(temp.tail(1).index, inplace=True)\n",
    "\n",
    "demend_info_2022_04 = copy.deepcopy(temp)\n",
    "\n"
   ]
  },
  {
   "cell_type": "markdown",
   "metadata": {},
   "source": [
    "#### 4월 결과\n"
   ]
  },
  {
   "cell_type": "code",
   "execution_count": null,
   "metadata": {},
   "outputs": [],
   "source": [
    "demend_info_2022_04"
   ]
  },
  {
   "cell_type": "markdown",
   "metadata": {},
   "source": [
    "#### 2022년 5월"
   ]
  },
  {
   "cell_type": "code",
   "execution_count": null,
   "metadata": {},
   "outputs": [],
   "source": [
    "#원하는 시트 불러옴\n",
    "demend_info_2022_05 = demend_info_2022['2022.05']\n",
    "\n",
    "#판다스 프레임으로 변환\n",
    "demend_info_2022_05 = pd.DataFrame(demend_info_2022_05.values)\n",
    "\n",
    "#날짜 추출\n",
    "date = demend_info_2022_05.loc[4:68, 0]\n",
    "date = date.iloc[::2]\n",
    "\n",
    "#원하는 값(필요한 값 추출)\n",
    "demend_info_2022_05 = demend_info_2022_05.loc[4:68, 12:19]\n",
    "# 짝수줄\n",
    "temp = demend_info_2022_05.iloc[::2, :]\n",
    "#홀수줄\n",
    "temp2 = demend_info_2022_05.iloc[1::2]\n",
    "\n",
    "#날짜 더 해줌\n",
    "temp = pd.concat([date, temp], axis=1)\n",
    "\n",
    "##1월만의 전처리\n",
    "temp.drop(temp.tail(1).index, inplace=True)\n",
    "temp = temp.reset_index()\n",
    "\n",
    "#temp = pd.merge(temp,temp2, )\n",
    "temp2 = pd.DataFrame(temp2[[13,16,18,19]])\n",
    "temp2 = temp2.reset_index()\n",
    "\n",
    "#원하는 모양으로 합치기\n",
    "temp = pd.concat([temp,temp2], axis=1)\n",
    "\n",
    "\n",
    "#필요없는 값 빼버리기\n",
    "temp = temp.drop(['index',14],axis=1)\n",
    "\n",
    "# 여기서 앞에 있는 18,19를 빼야 한다.\n",
    "# 어케 빼지~~ 일단 라벨링을 하면 좋을듯\n",
    "temp.columns = ['날짜','조식','중식1','중식2','석식','예약','공란','공란','중식수','석식수','합계','매출']\n",
    "temp.drop(temp.tail(1).index, inplace=True)\n",
    "temp = temp.drop(['공란'],axis=1)\n",
    "demend_info_2022_05 = copy.deepcopy(temp)\n"
   ]
  },
  {
   "cell_type": "markdown",
   "metadata": {},
   "source": [
    "#### 5월 결과\n"
   ]
  },
  {
   "cell_type": "code",
   "execution_count": null,
   "metadata": {},
   "outputs": [],
   "source": [
    "demend_info_2022_05"
   ]
  },
  {
   "cell_type": "markdown",
   "metadata": {},
   "source": [
    "#### 1.3.6 6월 만들기"
   ]
  },
  {
   "cell_type": "code",
   "execution_count": null,
   "metadata": {},
   "outputs": [],
   "source": [
    "#원하는 시트 불러옴\n",
    "demend_info_2022_06 = demend_info_2022['2022.06']\n",
    "\n",
    "#판다스 프레임으로 변환\n",
    "demend_info_2022_06 = pd.DataFrame(demend_info_2022_06.values)\n",
    "\n",
    "#날짜 추출\n",
    "date = demend_info_2022_06.loc[4:68, 0]\n",
    "date = date.iloc[::2]\n",
    "\n",
    "#원하는 값(필요한 값 추출)\n",
    "demend_info_2022_06 = demend_info_2022_06.loc[4:64, 12:19]\n",
    "# 짝수줄\n",
    "temp = demend_info_2022_06.iloc[::2, :]\n",
    "#홀수줄\n",
    "temp2 = demend_info_2022_06.iloc[1::2]\n",
    "\n",
    "#날짜 더 해줌\n",
    "temp = pd.concat([date, temp], axis=1)\n",
    "\n",
    "##1월만의 전처리\n",
    "temp.drop(temp.tail(1).index, inplace=True)\n",
    "temp = temp.reset_index()\n",
    "\n",
    "#temp = pd.merge(temp,temp2, )\n",
    "temp2 = pd.DataFrame(temp2[[13,16,18,19]])\n",
    "temp2 = temp2.reset_index()\n",
    "\n",
    "#원하는 모양으로 합치기\n",
    "temp = pd.concat([temp,temp2], axis=1)\n",
    "\n",
    "\n",
    "#필요없는 값 빼버리기\n",
    "temp = temp.drop(['index',14],axis=1)\n",
    "\n",
    "# 여기서 앞에 있는 18,19를 빼야 한다.\n",
    "# 어케 빼지~~ 일단 라벨링을 하면 좋을듯\n",
    "temp.columns = ['날짜','조식','중식1','중식2','석식','예약','공란','공란','중식수','석식수','합계','매출']\n",
    "temp.drop(temp.tail(1).index, inplace=True)\n",
    "temp = temp.drop(['공란'],axis=1)\n",
    "temp.drop(temp.tail(1).index, inplace=True)\n",
    "\n",
    "demend_info_2022_06 = copy.deepcopy(temp)"
   ]
  },
  {
   "cell_type": "markdown",
   "metadata": {},
   "source": [
    "#### 6월 결과\n"
   ]
  },
  {
   "cell_type": "code",
   "execution_count": null,
   "metadata": {},
   "outputs": [],
   "source": [
    "demend_info_2022_06"
   ]
  },
  {
   "cell_type": "markdown",
   "metadata": {},
   "source": [
    "#### 1.3.7 7월"
   ]
  },
  {
   "cell_type": "markdown",
   "metadata": {},
   "source": [
    "7월은 원래 정보와 달리 중식이 웰빙이랑 구분되어있다. 그래서 이 부분을 신경써야 할 것을 보인다.\n",
    "\n",
    "\n",
    "내용 확인 후 합치거나 해야할듯"
   ]
  },
  {
   "cell_type": "code",
   "execution_count": null,
   "metadata": {},
   "outputs": [],
   "source": [
    "#원하는 시트 불러옴\n",
    "demend_info_2022_07 = demend_info_2022['2022.07']\n",
    "\n",
    "#판다스 프레임으로 변환\n",
    "demend_info_2022_07 = pd.DataFrame(demend_info_2022_07.values)\n",
    "\n",
    "#날짜 추출\n",
    "date = demend_info_2022_07.loc[4:68, 0]\n",
    "date = date.iloc[::2]\n",
    "\n",
    "#원하는 값(필요한 값 추출)\n",
    "demend_info_2022_07 = demend_info_2022_07.loc[4:68, 12:19]\n",
    "# 짝수줄\n",
    "temp = demend_info_2022_07.iloc[::2, :]\n",
    "#홀수줄\n",
    "temp2 = demend_info_2022_07.iloc[1::2]\n",
    "\n",
    "#날짜 더 해줌\n",
    "temp = pd.concat([date, temp], axis=1)\n",
    "\n",
    "##1월만의 전처리\n",
    "temp.drop(temp.tail(1).index, inplace=True)\n",
    "temp = temp.reset_index()\n",
    "\n",
    "#temp = pd.merge(temp,temp2, )\n",
    "temp2 = pd.DataFrame(temp2[[12,13,15,16,18,19]])\n",
    "temp2 = temp2.reset_index()\n",
    "\n",
    "#원하는 모양으로 합치기\n",
    "temp = pd.concat([temp,temp2], axis=1)\n",
    "\n",
    "\n",
    "#필요없는 값 빼버리기\n",
    "temp = temp.drop(['index'],axis=1)\n",
    "\n",
    "# 여기서 앞에 있는 18,19를 빼야 한다.\n",
    "# 어케 빼지~~ 일단 라벨링을 하면 좋을듯\n",
    "temp.columns = ['날짜','조식','중식1','중식2','웰빙','석식','예약','공란','공란','조식수','중식수','웰빙','석식수','합계','매출']\n",
    "temp.drop(temp.tail(1).index, inplace=True)\n",
    "temp = temp.drop(['공란'],axis=1)\n",
    "demend_info_2022_07 = copy.deepcopy(temp)\n"
   ]
  },
  {
   "cell_type": "code",
   "execution_count": null,
   "metadata": {},
   "outputs": [],
   "source": [
    "demend_info_2022_07"
   ]
  },
  {
   "cell_type": "markdown",
   "metadata": {},
   "source": [
    "7월 정보는 추가로 받아야 할 것으로 보입니다."
   ]
  },
  {
   "cell_type": "markdown",
   "metadata": {},
   "source": [
    "#### 1.3.8 8월"
   ]
  },
  {
   "cell_type": "markdown",
   "metadata": {},
   "source": [
    "8월 데이터는 일단 미싱입니다."
   ]
  },
  {
   "cell_type": "markdown",
   "metadata": {},
   "source": [
    "#### 1.3.9 9월 데이터"
   ]
  },
  {
   "cell_type": "code",
   "execution_count": null,
   "metadata": {},
   "outputs": [],
   "source": [
    "### 9월 부터 저장 방식이 바뀌었는지 원하는 방식으로 결론이 안나오네요 처음부터 다시 전처리 해보겠습니다.\n",
    "### 추가로 9월에도 빈칸이 있다."
   ]
  },
  {
   "cell_type": "code",
   "execution_count": null,
   "metadata": {},
   "outputs": [],
   "source": [
    "#원하는 시트 불러옴\n",
    "demend_info_2022_09 = demend_info_2022['2022.09']\n",
    "\n",
    "#판다스 프레임으로 변환\n",
    "demend_info_2022_09 = pd.DataFrame(demend_info_2022_09.values)\n",
    "\n",
    "#날짜 추출\n",
    "date = demend_info_2022_09.loc[4:62, 0]\n",
    "date = date.iloc[::2]\n",
    "\n",
    "#원하는 값(필요한 값 추출)\n",
    "demend_info_2022_09 = demend_info_2022_09.loc[4:62, 12:21]\n",
    "\n",
    "# 짝수줄 \n",
    "temp = demend_info_2022_09.iloc[::2, :]\n",
    "#홀수줄 여기가 식수값이다.\n",
    "temp2 = demend_info_2022_09.iloc[1::2]\n",
    "\n",
    "\n",
    "# 날짜 결합\n",
    "temp = pd.concat([date, temp], axis=1)\n",
    "temp2 = pd.DataFrame(temp2[[12,13,14,15,16,17,18,20,21]])\n",
    "\n",
    "# 일단 결합을 위한 전처리\n",
    "temp = temp.reset_index()\n",
    "temp2 = temp2.reset_index()\n",
    "temp\n",
    "#두개 결합\n",
    "temp = pd.concat([temp,temp2], axis=1)\n",
    "\n",
    "# 필요 없는 부분 없애버리기\n",
    "temp = temp.drop(['index'],axis=1)\n",
    "\n",
    "#새로운 칼럼명 붙이기\n",
    "temp.columns = ['날짜','조식','중식1','중식2','웰빙','웰빙','석식','석식','예약','공란','공란','조식수','중식수','중식수2','웰빙','웰빙2','석식수','석식수2','합계','매출']\n",
    "\n",
    "# 공란 없애기\n",
    "temp = temp.drop(['공란'],axis=1)\n",
    "\n",
    "\n",
    "\n",
    "demend_info_2022_09 = copy.deepcopy(temp)"
   ]
  },
  {
   "cell_type": "markdown",
   "metadata": {},
   "source": [
    "#### 9월 정보"
   ]
  },
  {
   "cell_type": "code",
   "execution_count": null,
   "metadata": {},
   "outputs": [],
   "source": [
    "demend_info_2022_09"
   ]
  },
  {
   "cell_type": "markdown",
   "metadata": {},
   "source": [
    "#### 1.3.10 10월 정보"
   ]
  },
  {
   "cell_type": "code",
   "execution_count": null,
   "metadata": {},
   "outputs": [],
   "source": [
    "#원하는 시트 불러옴\n",
    "demend_info_2022_10 = demend_info_2022['2022.10']\n",
    "\n",
    "#판다스 프레임으로 변환\n",
    "demend_info_2022_10 = pd.DataFrame(demend_info_2022_10.values)\n",
    "\n",
    "#날짜 추출\n",
    "date = demend_info_2022_10.loc[4:70, 0]\n",
    "date = date.iloc[::2]\n",
    "\n",
    "#원하는 값(필요한 값 추출)\n",
    "demend_info_2022_10 = demend_info_2022_10.loc[4:70, 12:21]\n",
    "#demend_info_2022_10\n",
    "#demend_info_2022_10 = demend_info_2022_10.drop(labels=[65,66,67,68])\n",
    "\n",
    "\n",
    "\n",
    "# 짝수줄 \n",
    "temp = demend_info_2022_10.iloc[::2, :]\n",
    "#홀수줄 여기가 식수값이다.\n",
    "temp2 = demend_info_2022_10.iloc[1::2]\n",
    "\n",
    "# 날짜 결합\n",
    "temp = pd.concat([date, temp], axis=1)\n",
    "temp2 = pd.DataFrame(temp2[[12,13,14,15,16,17,18,20,21]])\n",
    "\n",
    "# 일단 결합을 위한 전처리\n",
    "temp = temp.reset_index()\n",
    "temp2 = temp2.reset_index()\n",
    "temp\n",
    "#두개 결합\n",
    "temp = pd.concat([temp,temp2], axis=1)\n",
    "\n",
    "# 필요 없는 부분 없애버리기\n",
    "temp = temp.drop(['index'],axis=1)\n",
    "\n",
    "#새로운 칼럼명 붙이기\n",
    "temp.columns = ['날짜','조식','중식1','중식2','웰빙','웰빙','석식','석식','예약','공란','공란','조식수','중식수','중식수2','웰빙','웰빙2','석식수','석식수2','합계','매출']\n",
    "\n",
    "# 공란 없애기\n",
    "temp = temp.drop(['공란'],axis=1)\n",
    "temp = temp.drop([30,31,33],axis=0)\n",
    "\n",
    "new_index = {old_name: i for i, old_name in enumerate(temp.index)}\n",
    "temp = temp.rename(index=new_index)\n",
    "\n",
    "demend_info_2022_10 = copy.deepcopy(temp)"
   ]
  },
  {
   "cell_type": "code",
   "execution_count": null,
   "metadata": {},
   "outputs": [],
   "source": [
    "demend_info_2022_10"
   ]
  },
  {
   "cell_type": "markdown",
   "metadata": {},
   "source": [
    "#### 1.3.11 11월 정보 불러오기"
   ]
  },
  {
   "cell_type": "code",
   "execution_count": null,
   "metadata": {},
   "outputs": [],
   "source": [
    "#원하는 시트 불러옴\n",
    "demend_info_2022_11 = demend_info_2022['2022.11']\n",
    "\n",
    "#판다스 프레임으로 변환\n",
    "demend_info_2022_11 = pd.DataFrame(demend_info_2022_11.values)\n",
    "\n",
    "#날짜 추출\n",
    "date = demend_info_2022_11.loc[4:65, 0]\n",
    "date = date.iloc[::2]\n",
    "\n",
    "#원하는 값(필요한 값 추출)\n",
    "demend_info_2022_11 = demend_info_2022_11.loc[4:65, 12:21]\n",
    "#demend_info_2022_11\n",
    "#demend_info_2022_11 = demend_info_2022_11.drop(labels=[65,66,67,68])\n",
    "\n",
    "\n",
    "\n",
    "# 짝수줄 \n",
    "temp = demend_info_2022_11.iloc[::2, :]\n",
    "#홀수줄 여기가 식수값이다.\n",
    "temp2 = demend_info_2022_11.iloc[1::2]\n",
    "\n",
    "# 날짜 결합\n",
    "temp = pd.concat([date, temp], axis=1)\n",
    "temp2 = pd.DataFrame(temp2[[12,13,14,15,16,17,18,20,21]])\n",
    "\n",
    "# 일단 결합을 위한 전처리\n",
    "temp = temp.reset_index()\n",
    "temp2 = temp2.reset_index()\n",
    "temp\n",
    "#두개 결합\n",
    "temp = pd.concat([temp,temp2], axis=1)\n",
    "\n",
    "# 필요 없는 부분 없애버리기\n",
    "temp = temp.drop(['index'],axis=1)\n",
    "\n",
    "#새로운 칼럼명 붙이기\n",
    "temp.columns = ['날짜','조식','중식1','중식2','웰빙','웰빙','석식','석식','예약','공란','공란','조식수','중식수','중식수2','웰빙','웰빙2','석식수','석식수2','합계','매출']\n",
    "\n",
    "# 공란 없애기\n",
    "temp = temp.drop(['공란'],axis=1)\n",
    "#temp = temp.drop([30,31,33],axis=0)\n",
    "\n",
    "\n",
    "new_index = {old_name: i for i, old_name in enumerate(temp.index)}\n",
    "temp = temp.rename(index=new_index)\n",
    "\n",
    "temp.drop(temp.tail(1).index, inplace=True)\n",
    "\n",
    "demend_info_2022_11 = copy.deepcopy(temp)"
   ]
  },
  {
   "cell_type": "markdown",
   "metadata": {},
   "source": [
    "#### 11월 정보"
   ]
  },
  {
   "cell_type": "code",
   "execution_count": null,
   "metadata": {},
   "outputs": [],
   "source": [
    "demend_info_2022_11 "
   ]
  },
  {
   "cell_type": "markdown",
   "metadata": {},
   "source": [
    "#### 1.3.12 2022년 12월 정보 불러오기"
   ]
  },
  {
   "cell_type": "code",
   "execution_count": null,
   "metadata": {},
   "outputs": [],
   "source": [
    "#원하는 시트 불러옴\n",
    "demend_info_2022_12 = demend_info_2022['2022.12']\n",
    "\n",
    "#판다스 프레임으로 변환\n",
    "demend_info_2022_12 = pd.DataFrame(demend_info_2022_12.values)\n",
    "\n",
    "#날짜 추출\n",
    "date = demend_info_2022_12.loc[4:70, 0]\n",
    "date = date.iloc[::2]\n",
    "\n",
    "#원하는 값(필요한 값 추출)\n",
    "demend_info_2022_12 = demend_info_2022_12.loc[4:70, 12:21]\n",
    "#demend_info_2022_12\n",
    "#demend_info_2022_12 = demend_info_2022_12.drop(labels=[65,66,67,68])\n",
    "\n",
    "\n",
    "\n",
    "# 짝수줄 \n",
    "temp = demend_info_2022_12.iloc[::2, :]\n",
    "#홀수줄 여기가 식수값이다.\n",
    "temp2 = demend_info_2022_12.iloc[1::2]\n",
    "\n",
    "# 날짜 결합\n",
    "temp = pd.concat([date, temp], axis=1)\n",
    "temp2 = pd.DataFrame(temp2[[12,13,14,15,16,17,18,20,21]])\n",
    "\n",
    "# 일단 결합을 위한 전처리\n",
    "temp = temp.reset_index()\n",
    "temp2 = temp2.reset_index()\n",
    "temp\n",
    "#두개 결합\n",
    "temp = pd.concat([temp,temp2], axis=1)\n",
    "\n",
    "# 필요 없는 부분 없애버리기\n",
    "temp = temp.drop(['index'],axis=1)\n",
    "\n",
    "#새로운 칼럼명 붙이기\n",
    "temp.columns = ['날짜','조식','중식1','중식2','웰빙','웰빙','석식','석식','예약','공란','공란','조식수','중식수','중식수2','웰빙','웰빙2','석식수','석식수2','합계','매출']\n",
    "\n",
    "# 공란 없애기\n",
    "temp = temp.drop(['공란'],axis=1)\n",
    "temp = temp.drop([30,31,33],axis=0)\n",
    "\n",
    "new_index = {old_name: i for i, old_name in enumerate(temp.index)}\n",
    "temp = temp.rename(index=new_index)\n",
    "\n",
    "demend_info_2022_12 = copy.deepcopy(temp)"
   ]
  },
  {
   "cell_type": "code",
   "execution_count": null,
   "metadata": {},
   "outputs": [],
   "source": [
    "demend_info_2022_12"
   ]
  },
  {
   "cell_type": "markdown",
   "metadata": {},
   "source": [
    "### 1.4 2023년도 정보 출력하기"
   ]
  },
  {
   "cell_type": "code",
   "execution_count": null,
   "metadata": {},
   "outputs": [],
   "source": [
    "filename = '/Users/hanyoungwook/2023-1/capstone_design/필요한 데이터들/식수현황/식수인원현황 2023.xlsx'\n",
    "\n",
    "## 파일 불러옴 \n",
    "demend_info_2023 = load_workbook(filename,data_only = True)\n",
    "\n",
    "\n"
   ]
  },
  {
   "cell_type": "markdown",
   "metadata": {},
   "source": [
    "#### 1.4.1 2023 1월 정보 불러오기"
   ]
  },
  {
   "cell_type": "code",
   "execution_count": null,
   "metadata": {},
   "outputs": [],
   "source": [
    "#원하는 시트 불러옴\n",
    "demend_info_2023_01 = demend_info_2023['2023.01']\n",
    "\n",
    "#판다스 프레임으로 변환\n",
    "demend_info_2023_01 = pd.DataFrame(demend_info_2023_01.values)\n",
    "\n",
    "#날짜 추출\n",
    "date = demend_info_2023_01.loc[4:70, 0]\n",
    "date = date.iloc[::2]\n",
    "\n",
    "#원하는 값(필요한 값 추출)\n",
    "demend_info_2023_01 = demend_info_2023_01.loc[4:70, 12:21]\n",
    "#demend_info_2023_01\n",
    "#demend_info_2023_01 = demend_info_2023_01.drop(labels=[65,66,67,68])\n",
    "\n",
    "\n",
    "\n",
    "# 짝수줄 \n",
    "temp = demend_info_2023_01.iloc[::2, :]\n",
    "#홀수줄 여기가 식수값이다.\n",
    "temp2 = demend_info_2023_01.iloc[1::2]\n",
    "\n",
    "# 날짜 결합\n",
    "temp = pd.concat([date, temp], axis=1)\n",
    "temp2 = pd.DataFrame(temp2[[12,13,14,15,16,17,18,20,21]])\n",
    "\n",
    "# 일단 결합을 위한 전처리\n",
    "temp = temp.reset_index()\n",
    "temp2 = temp2.reset_index()\n",
    "temp\n",
    "#두개 결합\n",
    "temp = pd.concat([temp,temp2], axis=1)\n",
    "\n",
    "# 필요 없는 부분 없애버리기\n",
    "temp = temp.drop(['index'],axis=1)\n",
    "\n",
    "#새로운 칼럼명 붙이기\n",
    "temp.columns = ['날짜','조식','중식1','중식2','웰빙','웰빙','석식','석식','예약','공란','공란','조식수','중식수','중식수2','웰빙','웰빙2','석식수','석식수2','합계','매출']\n",
    "\n",
    "# 공란 없애기\n",
    "temp = temp.drop(['공란'],axis=1)\n",
    "temp = temp.drop([30,31,33],axis=0)\n",
    "\n",
    "new_index = {old_name: i for i, old_name in enumerate(temp.index)}\n",
    "temp = temp.rename(index=new_index)\n",
    "\n",
    "demend_info_2023_01 = copy.deepcopy(temp)"
   ]
  },
  {
   "cell_type": "markdown",
   "metadata": {},
   "source": [
    "#### 2023 1월 정보"
   ]
  },
  {
   "cell_type": "code",
   "execution_count": null,
   "metadata": {},
   "outputs": [],
   "source": [
    "demend_info_2023_01"
   ]
  },
  {
   "cell_type": "markdown",
   "metadata": {},
   "source": [
    "#### 1.4.2 2023 2월 정보 불러오기"
   ]
  },
  {
   "cell_type": "code",
   "execution_count": null,
   "metadata": {},
   "outputs": [],
   "source": [
    "#원하는 시트 불러옴\n",
    "demend_info_2023_02 = demend_info_2023['2023.02']\n",
    "\n",
    "#판다스 프레임으로 변환\n",
    "demend_info_2023_02 = pd.DataFrame(demend_info_2023_02.values)\n",
    "\n",
    "#날짜 추출\n",
    "date = demend_info_2023_02.loc[4:70, 0]\n",
    "date = date.iloc[::2]\n",
    "\n",
    "#원하는 값(필요한 값 추출)\n",
    "demend_info_2023_02 = demend_info_2023_02.loc[4:70, 12:21]\n",
    "#demend_info_2023_02\n",
    "#demend_info_2023_02 = demend_info_2023_02.drop(labels=[65,66,67,68])\n",
    "\n",
    "\n",
    "\n",
    "# 짝수줄 \n",
    "temp = demend_info_2023_02.iloc[::2, :]\n",
    "#홀수줄 여기가 식수값이다.\n",
    "temp2 = demend_info_2023_02.iloc[1::2]\n",
    "\n",
    "# 날짜 결합\n",
    "temp = pd.concat([date, temp], axis=1)\n",
    "temp2 = pd.DataFrame(temp2[[12,13,14,15,16,17,18,20,21]])\n",
    "\n",
    "# 일단 결합을 위한 전처리\n",
    "temp = temp.reset_index()\n",
    "temp2 = temp2.reset_index()\n",
    "temp\n",
    "#두개 결합\n",
    "temp = pd.concat([temp,temp2], axis=1)\n",
    "\n",
    "# 필요 없는 부분 없애버리기\n",
    "temp = temp.drop(['index'],axis=1)\n",
    "\n",
    "#새로운 칼럼명 붙이기\n",
    "temp.columns = ['날짜','조식','중식1','중식2','웰빙','웰빙','석식','석식','예약','공란','공란','조식수','중식수','중식수2','웰빙','웰빙2','석식수','석식수2','합계','매출']\n",
    "\n",
    "# 공란 없애기\n",
    "temp = temp.drop(['공란'],axis=1)\n",
    "temp = temp.drop([28,29],axis=0)\n",
    "\n",
    "new_index = {old_name: i for i, old_name in enumerate(temp.index)}\n",
    "temp = temp.rename(index=new_index)\n",
    "\n",
    "demend_info_2023_02 = copy.deepcopy(temp)"
   ]
  },
  {
   "cell_type": "markdown",
   "metadata": {},
   "source": [
    "#### 2023 2월 정보"
   ]
  },
  {
   "cell_type": "code",
   "execution_count": null,
   "metadata": {},
   "outputs": [],
   "source": [
    "demend_info_2023_02"
   ]
  },
  {
   "cell_type": "markdown",
   "metadata": {},
   "source": [
    "#### 1.4.3 2023 3월 정보 불러오기"
   ]
  },
  {
   "cell_type": "code",
   "execution_count": null,
   "metadata": {},
   "outputs": [],
   "source": [
    "#원하는 시트 불러옴\n",
    "demend_info_2023_03 = demend_info_2023['2023.03']\n",
    "\n",
    "#판다스 프레임으로 변환\n",
    "demend_info_2023_03 = pd.DataFrame(demend_info_2023_03.values)\n",
    "\n",
    "#날짜 추출\n",
    "date = demend_info_2023_03.loc[4:70, 0]\n",
    "date = date.iloc[::2]\n",
    "\n",
    "#원하는 값(필요한 값 추출)\n",
    "demend_info_2023_03 = demend_info_2023_03.loc[4:70, 12:21]\n",
    "#demend_info_2023_03\n",
    "#demend_info_2023_03 = demend_info_2023_03.drop(labels=[65,66,67,68])\n",
    "\n",
    "\n",
    "\n",
    "# 짝수줄 \n",
    "temp = demend_info_2023_03.iloc[::2, :]\n",
    "#홀수줄 여기가 식수값이다.\n",
    "temp2 = demend_info_2023_03.iloc[1::2]\n",
    "\n",
    "# 날짜 결합\n",
    "temp = pd.concat([date, temp], axis=1)\n",
    "temp2 = pd.DataFrame(temp2[[12,13,14,15,16,17,18,20,21]])\n",
    "\n",
    "# 일단 결합을 위한 전처리\n",
    "temp = temp.reset_index()\n",
    "temp2 = temp2.reset_index()\n",
    "temp\n",
    "#두개 결합\n",
    "temp = pd.concat([temp,temp2], axis=1)\n",
    "\n",
    "# 필요 없는 부분 없애버리기\n",
    "temp = temp.drop(['index'],axis=1)\n",
    "\n",
    "#새로운 칼럼명 붙이기\n",
    "temp.columns = ['날짜','조식','중식1','중식2','웰빙','웰빙','석식','석식','예약','공란','공란','조식수','중식수','중식수2','웰빙','웰빙2','석식수','석식수2','합계','매출']\n",
    "\n",
    "# 공란 없애기\n",
    "temp = temp.drop(['공란'],axis=1)\n",
    "temp = temp.drop([30,31,33],axis=0)\n",
    "\n",
    "new_index = {old_name: i for i, old_name in enumerate(temp.index)}\n",
    "temp = temp.rename(index=new_index)\n",
    "\n",
    "demend_info_2023_03 = copy.deepcopy(temp)"
   ]
  },
  {
   "cell_type": "markdown",
   "metadata": {},
   "source": [
    "#### 2023 3월 정보 "
   ]
  },
  {
   "cell_type": "code",
   "execution_count": null,
   "metadata": {},
   "outputs": [],
   "source": [
    "demend_info_2023_03\n",
    "\n"
   ]
  },
  {
   "cell_type": "markdown",
   "metadata": {},
   "source": [
    "#### 1.5 모든 셀 세로로 더해서 저장하기"
   ]
  },
  {
   "cell_type": "code",
   "execution_count": null,
   "metadata": {},
   "outputs": [],
   "source": [
    "## 날짜 & 합계 더해오기\n",
    "monthly_list = [demend_info_2022_01,\n",
    "                demend_info_2022_02,\n",
    "                demend_info_2022_03,\n",
    "                demend_info_2022_04,\n",
    "                demend_info_2022_05,\n",
    "                demend_info_2022_06,\n",
    "                demend_info_2022_07,\n",
    "                demend_info_2022_09,\n",
    "                demend_info_2022_10,\n",
    "                demend_info_2022_11,\n",
    "                demend_info_2022_12,\n",
    "                demend_info_2023_01,\n",
    "                demend_info_2023_02,\n",
    "                demend_info_2023_03\n",
    "                ]\n",
    "#all = pd.concat(monthly_list, ignore_index=True).reset_index(drop=True)\n",
    "\n",
    "# # 그냥 다 더하고 원하는 걸 추출하는 걸로 해야겠다.  \n",
    "# all = pd.DataFrame(demend_info_2022_01)\n",
    "# for i in range (1,len(monthly_list),1):\n",
    "#     all =pd.concat([all,monthly_list[i]],axis = 0,ignore_index=True,join = 'outer')\n",
    "date_tot = pd.DataFrame(demend_info_2022_01[['날짜','합계']])\n",
    "for i in range (1,len(monthly_list),1):\n",
    "    date_tot = pd.concat([date_tot,pd.DataFrame(monthly_list[i][['날짜','합계']])],axis=0, ignore_index=True)\n",
    "\n",
    "#all"
   ]
  },
  {
   "cell_type": "code",
   "execution_count": null,
   "metadata": {},
   "outputs": [],
   "source": [
    "#date_tot = date_tot.loc[(date_tot != 0).any(axis=1)]\n",
    "date_tot = date_tot.loc[(date_tot.ne(0)).all(axis=1)]\n",
    "date_tot['요일'] = pd.to_datetime(date_tot['날짜']).dt.weekday\n",
    "\n",
    "date_tot"
   ]
  },
  {
   "cell_type": "markdown",
   "metadata": {},
   "source": [
    "# 2. 분석하기"
   ]
  },
  {
   "cell_type": "markdown",
   "metadata": {},
   "source": [
    "## 2.1 분석 기법 종류"
   ]
  },
  {
   "cell_type": "markdown",
   "metadata": {},
   "source": [
    "1. 선형회귀 (유동인구)\n",
    "2. 선형회귀  (날씨)\n",
    "3. 선형회귀 (시계열 분석 ,일주월)\n",
    "4. 메뉴 변수 (디시전트리...?)\n",
    "5. 이벤트 여부 변수 (클러스터링)\n",
    "6. ARIMA\n",
    "7. LTSM"
   ]
  },
  {
   "cell_type": "markdown",
   "metadata": {},
   "source": [
    "### 2.2 선형회귀"
   ]
  },
  {
   "cell_type": "code",
   "execution_count": null,
   "metadata": {},
   "outputs": [],
   "source": [
    "## 일단 중식 석식을 모두 합한 값에 대해서 선형회귀 분석을 진행해볼까 합니다.\n",
    "\n",
    "import matplotlib.pyplot as plt\n",
    "date_tot= date_tot.dropna(axis=0)\n",
    "print(date_tot['합계'].mean())\n",
    "plt.scatter(date_tot['날짜'],date_tot['합계'])\n",
    "plt.show()\n"
   ]
  }
 ],
 "metadata": {
  "interpreter": {
   "hash": "b8beab729dbb1837105d3f7fb0a1871e6154186c32f324f08ad71fb4d5f02df6"
  },
  "kernelspec": {
   "display_name": "Python 3.9.13 ('base')",
   "language": "python",
   "name": "python3"
  },
  "language_info": {
   "codemirror_mode": {
    "name": "ipython",
    "version": 3
   },
   "file_extension": ".py",
   "mimetype": "text/x-python",
   "name": "python",
   "nbconvert_exporter": "python",
   "pygments_lexer": "ipython3",
   "version": "3.9.16"
  },
  "orig_nbformat": 4
 },
 "nbformat": 4,
 "nbformat_minor": 2
}

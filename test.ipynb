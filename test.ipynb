{
 "cells": [
  {
   "cell_type": "markdown",
   "metadata": {},
   "source": [
    "# 교내식당 수요예측 프로젝트 "
   ]
  },
  {
   "cell_type": "markdown",
   "metadata": {},
   "source": [
    "## 1. 초기 작업"
   ]
  },
  {
   "cell_type": "markdown",
   "metadata": {},
   "source": [
    "### 1.1 필요한 패키지 불러오기"
   ]
  },
  {
   "cell_type": "code",
   "execution_count": 46,
   "metadata": {},
   "outputs": [],
   "source": [
    "import pandas as pd\n",
    "import sklearn as skl\n",
    "import matplotlib as plt\n",
    "import numpy as np\n",
    "from openpyxl import load_workbook \n",
    "pd.set_option('display.max_columns', None)\n",
    "pd.set_option('display.max_row', None)"
   ]
  },
  {
   "cell_type": "markdown",
   "metadata": {},
   "source": [
    "### 1.2 필요한 정보들 목록"
   ]
  },
  {
   "cell_type": "markdown",
   "metadata": {},
   "source": [
    "1. 식수 정보 (2022)\n",
    "2. 식수 정보 (2023)\n",
    "3. 메뉴 정보 (2022)\n",
    "4. 메뉴 정보 (2023)\n",
    "5. 버스 승하차 기록\n",
    "6. 지하철 승하차 기록\n",
    "7. 날씨 기록\n",
    "8. 교내 이벤트"
   ]
  },
  {
   "cell_type": "markdown",
   "metadata": {},
   "source": [
    "### 1.3 각각의 값 불러오기"
   ]
  },
  {
   "cell_type": "code",
   "execution_count": 47,
   "metadata": {},
   "outputs": [
    {
     "data": {
      "text/plain": [
       "4     2022-01-01 00:00:00\n",
       "6     2022-01-02 00:00:00\n",
       "8     2022-01-03 00:00:00\n",
       "10    2022-01-04 00:00:00\n",
       "12    2022-01-05 00:00:00\n",
       "14    2022-01-06 00:00:00\n",
       "16    2022-01-07 00:00:00\n",
       "18    2022-01-08 00:00:00\n",
       "20    2022-01-09 00:00:00\n",
       "22    2022-01-10 00:00:00\n",
       "24    2022-01-11 00:00:00\n",
       "26    2022-01-12 00:00:00\n",
       "28    2022-01-13 00:00:00\n",
       "30    2022-01-14 00:00:00\n",
       "32    2022-01-15 00:00:00\n",
       "34    2022-01-16 00:00:00\n",
       "36    2022-01-17 00:00:00\n",
       "38    2022-01-18 00:00:00\n",
       "40    2022-01-19 00:00:00\n",
       "42    2022-01-20 00:00:00\n",
       "44    2022-01-21 00:00:00\n",
       "46    2022-01-22 00:00:00\n",
       "48    2022-01-23 00:00:00\n",
       "50    2022-01-24 00:00:00\n",
       "52    2022-01-25 00:00:00\n",
       "54    2022-01-26 00:00:00\n",
       "56    2022-01-27 00:00:00\n",
       "58    2022-01-28 00:00:00\n",
       "60    2022-01-29 00:00:00\n",
       "62    2022-01-30 00:00:00\n",
       "64    2022-01-31 00:00:00\n",
       "66    2019-03-31 00:00:00\n",
       "68                     합계\n",
       "Name: 0, dtype: object"
      ]
     },
     "execution_count": 47,
     "metadata": {},
     "output_type": "execute_result"
    }
   ],
   "source": [
    "# 마 이제 함 불러와 봐라!\n",
    "\n",
    "filename = '/Users/hanyoungwook/2023-1/capstone_design/필요한 데이터들/식수현황/식수인원현황 2022.xlsx'\n",
    "demend_info_2022 = load_workbook(filename,data_only = True)\n",
    "#print(demend_info_2022)\n",
    "#demend_info_2022 = demend_info_2022.active\n",
    "demend_info_2022_01 = demend_info_2022['2022.01']\n",
    "\n",
    "demend_info_2022_01 = pd.DataFrame(demend_info_2022_01.values)\n",
    "date = demend_info_2022_01.loc[4:68, 0]\n",
    "date = date.iloc[::2]\n",
    "demend_info_2022_01 = demend_info_2022_01.loc[4:68, 12:19]\n",
    "temp = demend_info_2022_01.iloc[::2, :]\n",
    "#demend_info_2022_01\n",
    "#temp\n",
    "temp2 = demend_info_2022_01.iloc[1::2]\n",
    "#temp2\n",
    "date\n",
    "\n",
    "\n",
    "\n",
    "# 이걸 이대로 불러오면 원하는 모양이 안 나온다.  \n",
    "# 데이터 자르기 열 기준으로 12 ~ 19 가져오면 될듯 이게 도담 식당 데이터니까.\n",
    "# 뭐가 필요할까아아ㅏ 일단 그렇게 해보자. 또 자를 정보가 있나? 행 기준 4 ~ 68 일듯 근데 값을 그냥 치환 시켜 버려야 할듯\n",
    "# 근데 찾아보니.. 월 마다 정리 방식이 꽤나 다르네요 깔깔\n",
    "# 월마다 데이터를 알아서 조립해야한다니 정말 서운하네요.\n",
    "# 자 이제 잘라보자 \n",
    "# 자르기 성공 \n",
    "# 근데 그리고 이제 값을 수정해서 따로 넣어야 하는데 어떻게 하면 좋을까. \n",
    "# 원하는 대로 슬라이싱을 해볼까.\n",
    "# \n"
   ]
  },
  {
   "cell_type": "code",
   "execution_count": null,
   "metadata": {},
   "outputs": [],
   "source": []
  },
  {
   "cell_type": "markdown",
   "metadata": {},
   "source": [
    "# 2. 분석하기"
   ]
  },
  {
   "cell_type": "markdown",
   "metadata": {},
   "source": [
    "## 2.1 분석 기법 종류"
   ]
  },
  {
   "cell_type": "markdown",
   "metadata": {},
   "source": []
  },
  {
   "cell_type": "markdown",
   "metadata": {},
   "source": [
    "1. 선형회귀 (유동인구)\n",
    "2. 선형회귀  (날씨)\n",
    "3. 선형회귀 (시계열 분석 ,일주월)\n",
    "4. 메뉴 변수 (디시전트리...?)\n",
    "5. 이벤트 여부 변수 (클러스터링)\n",
    "6. ARIMA\n",
    "7. prophet\n",
    "8. LTSM"
   ]
  },
  {
   "cell_type": "code",
   "execution_count": null,
   "metadata": {},
   "outputs": [],
   "source": [
    "#분석 시작~~"
   ]
  }
 ],
 "metadata": {
  "interpreter": {
   "hash": "b8beab729dbb1837105d3f7fb0a1871e6154186c32f324f08ad71fb4d5f02df6"
  },
  "kernelspec": {
   "display_name": "Python 3.9.13 ('base')",
   "language": "python",
   "name": "python3"
  },
  "language_info": {
   "codemirror_mode": {
    "name": "ipython",
    "version": 3
   },
   "file_extension": ".py",
   "mimetype": "text/x-python",
   "name": "python",
   "nbconvert_exporter": "python",
   "pygments_lexer": "ipython3",
   "version": "3.9.13"
  },
  "orig_nbformat": 4
 },
 "nbformat": 4,
 "nbformat_minor": 2
}
